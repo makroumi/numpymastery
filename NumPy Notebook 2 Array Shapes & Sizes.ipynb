{
  "nbformat": 4,
  "nbformat_minor": 0,
  "metadata": {
    "colab": {
      "provenance": []
    },
    "kernelspec": {
      "name": "python3",
      "display_name": "Python 3"
    },
    "language_info": {
      "name": "python"
    }
  },
  "cells": [
    {
      "cell_type": "markdown",
      "source": [
        "# NumPy Notebook 2: Array Shapes & Sizes\n",
        "\"Like Lego blocks for numbers!\""
      ],
      "metadata": {
        "id": "y50j6lV_mIsB"
      }
    },
    {
      "cell_type": "markdown",
      "source": [
        "## Why Shapes Matter?  \n",
        "Arrays can be:  \n",
        "- **1D**: A line of numbers (like a shopping list)  \n",
        "- **2D**: A grid (like Excel sheet)  \n",
        "- **3D+**: A cube or higher (like MRI scan layers)  \n",
        "\n",
        " **Real-World Use**:  \n",
        "- 1D: Temperature readings  \n",
        "- 2D: Black-and-white images  \n",
        "- 3D: Color images (RGB layers)  "
      ],
      "metadata": {
        "id": "MtGXHzD1mO_T"
      }
    },
    {
      "cell_type": "code",
      "source": [
        "import numpy as np\n",
        "\n",
        "# 1D array (vector)\n",
        "groceries = np.array([\"🍎\", \"🥛\", \"🍞\"])\n",
        "print(\"Groceries shape:\", groceries.shape)  # (3,) → 3 items\n",
        "\n",
        "# 2D array (matrix)\n",
        "chessboard = np.array([\n",
        "    [\"♜\", \"♞\", \"♝\"],\n",
        "    [\"♚\", \"♛\", \"♝\"]\n",
        "])\n",
        "print(\"Chessboard shape:\", chessboard.shape)  # (2, 3) → 2 rows, 3 columns"
      ],
      "metadata": {
        "colab": {
          "base_uri": "https://localhost:8080/"
        },
        "id": "ye27kdecmVYQ",
        "outputId": "3746cd68-0e5e-4f16-c662-7d1f34a074fa"
      },
      "execution_count": 1,
      "outputs": [
        {
          "output_type": "stream",
          "name": "stdout",
          "text": [
            "Groceries shape: (3,)\n",
            "Chessboard shape: (2, 3)\n"
          ]
        }
      ]
    },
    {
      "cell_type": "markdown",
      "source": [
        "## Reshaping Arrays  \n",
        "Turn a line of numbers into a grid!  \n",
        "*Rule: Total elements must stay the same.*  "
      ],
      "metadata": {
        "id": "fIZifgtumiE-"
      }
    },
    {
      "cell_type": "code",
      "source": [
        "# From 1D to 2D\n",
        "numbers = np.arange(1, 7)  # [1, 2, 3, 4, 5, 6]\n",
        "grid = numbers.reshape(2, 3)  # 2 rows, 3 cols\n",
        "print(\"Reshaped grid:\\n\", grid)\n",
        "\n",
        "# Common error (will crash!)\n",
        "try:\n",
        "    bad_grid = numbers.reshape(3, 3)  # Needs 9 elements!\n",
        "except ValueError as e:\n",
        "    print(\"Error:\", e)"
      ],
      "metadata": {
        "colab": {
          "base_uri": "https://localhost:8080/"
        },
        "id": "-iaBw9vLmk7u",
        "outputId": "0f2c06cc-7c25-40c3-9c57-1e2a07cac984"
      },
      "execution_count": 2,
      "outputs": [
        {
          "output_type": "stream",
          "name": "stdout",
          "text": [
            "Reshaped grid:\n",
            " [[1 2 3]\n",
            " [4 5 6]]\n",
            "Error: cannot reshape array of size 6 into shape (3,3)\n"
          ]
        }
      ]
    },
    {
      "cell_type": "markdown",
      "source": [
        "## Stacking Arrays  \n",
        "Combine arrays like Lego blocks:  \n",
        "- `vstack`: Vertical (row-wise)  \n",
        "- `hstack`: Horizontal (column-wise)  "
      ],
      "metadata": {
        "id": "jrOfY0b_m1HU"
      }
    },
    {
      "cell_type": "code",
      "source": [
        "# Stack two 1D arrays\n",
        "a = np.array([1, 2, 3])\n",
        "b = np.array([4, 5, 6])\n",
        "\n",
        "print(\"Vertical stack:\\n\", np.vstack((a, b)))  # 2 rows\n",
        "print(\"Horizontal stack:\", np.hstack((a, b)))  # 1 long row"
      ],
      "metadata": {
        "colab": {
          "base_uri": "https://localhost:8080/"
        },
        "id": "F9e3Li3fm2xR",
        "outputId": "afb55c23-b13b-452f-ca15-b82e96cd9b17"
      },
      "execution_count": 3,
      "outputs": [
        {
          "output_type": "stream",
          "name": "stdout",
          "text": [
            "Vertical stack:\n",
            " [[1 2 3]\n",
            " [4 5 6]]\n",
            "Horizontal stack: [1 2 3 4 5 6]\n"
          ]
        }
      ]
    },
    {
      "cell_type": "markdown",
      "source": [
        "## Flattening Arrays  \n",
        "Turn any array back to 1D:  \n",
        "- `.flatten()`: Makes a copy  \n",
        "- `.ravel()`: Uses original memory  "
      ],
      "metadata": {
        "id": "Jsx9bxwInQQG"
      }
    },
    {
      "cell_type": "code",
      "source": [
        "grid = np.array([[1, 2], [3, 4]])\n",
        "\n",
        "flattened = grid.flatten()\n",
        "raveled = grid.ravel()\n",
        "\n",
        "print(\"Flattened:\", flattened)  # [1, 2, 3, 4]\n",
        "print(\"Raveled:\", raveled)      # Same output"
      ],
      "metadata": {
        "colab": {
          "base_uri": "https://localhost:8080/"
        },
        "id": "i0kBKGqOnRU7",
        "outputId": "bc3eb421-91e2-4a76-dd50-67cdb7c7dced"
      },
      "execution_count": 4,
      "outputs": [
        {
          "output_type": "stream",
          "name": "stdout",
          "text": [
            "Flattened: [1 2 3 4]\n",
            "Raveled: [1 2 3 4]\n"
          ]
        }
      ]
    },
    {
      "cell_type": "markdown",
      "source": [
        "## Image Processing Demo  \n",
        "Black-and-white images = 2D arrays!"
      ],
      "metadata": {
        "id": "Ez9oUGbqnhIO"
      }
    },
    {
      "cell_type": "code",
      "source": [
        "# Simulate a tiny 3x3 pixel image\n",
        "image = np.array([\n",
        "    [0, 255, 0],  # Black, White, Black\n",
        "    [255, 0, 255],\n",
        "    [0, 255, 0]\n",
        "])\n",
        "\n",
        "# Flip the image vertically\n",
        "flipped = np.vstack((image[2], image[1], image[0]))\n",
        "print(\"Flipped image:\\n\", flipped)"
      ],
      "metadata": {
        "colab": {
          "base_uri": "https://localhost:8080/"
        },
        "id": "8SUtC1MRnkJQ",
        "outputId": "dc2e646c-de92-45e0-db1b-b90db5004b63"
      },
      "execution_count": 5,
      "outputs": [
        {
          "output_type": "stream",
          "name": "stdout",
          "text": [
            "Flipped image:\n",
            " [[  0 255   0]\n",
            " [255   0 255]\n",
            " [  0 255   0]]\n"
          ]
        }
      ]
    },
    {
      "cell_type": "markdown",
      "source": [
        "## Practice Time!  \n",
        "1. Create a 1D array with 8 numbers  \n",
        "2. Reshape it into 2x4 and 4x2 grids  \n",
        "3. Stack two 2x2 arrays vertically  \n",
        "4. Flatten the result  \n",
        "\n",
        "*(Solutions in next cell)*  "
      ],
      "metadata": {
        "id": "EeeGWQZqn7WP"
      }
    },
    {
      "cell_type": "code",
      "source": [
        "# 1-2\n",
        "arr = np.arange(1, 9)\n",
        "print(\"2x4:\\n\", arr.reshape(2, 4))\n",
        "print(\"4x2:\\n\", arr.reshape(4, 2))\n",
        "\n",
        "# 3-4\n",
        "a = np.array([[1, 2], [3, 4]])\n",
        "stacked = np.vstack((a, a))\n",
        "print(\"Stacked:\\n\", stacked)\n",
        "print(\"Flattened:\", stacked.flatten())"
      ],
      "metadata": {
        "colab": {
          "base_uri": "https://localhost:8080/"
        },
        "id": "abQ9PfnRoDJz",
        "outputId": "4266eb82-b7d5-4a3b-dc0b-15e21f278f58"
      },
      "execution_count": 6,
      "outputs": [
        {
          "output_type": "stream",
          "name": "stdout",
          "text": [
            "2x4:\n",
            " [[1 2 3 4]\n",
            " [5 6 7 8]]\n",
            "4x2:\n",
            " [[1 2]\n",
            " [3 4]\n",
            " [5 6]\n",
            " [7 8]]\n",
            "Stacked:\n",
            " [[1 2]\n",
            " [3 4]\n",
            " [1 2]\n",
            " [3 4]]\n",
            "Flattened: [1 2 3 4 1 2 3 4]\n"
          ]
        }
      ]
    },
    {
      "cell_type": "markdown",
      "source": [],
      "metadata": {
        "id": "4gii292ZoOGS"
      }
    }
  ]
}
