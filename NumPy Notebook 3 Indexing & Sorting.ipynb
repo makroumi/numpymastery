{
  "nbformat": 4,
  "nbformat_minor": 0,
  "metadata": {
    "colab": {
      "provenance": []
    },
    "kernelspec": {
      "name": "python3",
      "display_name": "Python 3"
    },
    "language_info": {
      "name": "python"
    }
  },
  "cells": [
    {
      "cell_type": "markdown",
      "source": [
        "# NumPy Notebook 3: Indexing & Sorting\n",
        "\"Finding and organizing your data like a pro!\""
      ],
      "metadata": {
        "id": "iW3KaQVKoxdP"
      }
    },
    {
      "cell_type": "markdown",
      "source": [
        "## What You'll Learn  \n",
        "1. **Indexing**: Get specific values from arrays  \n",
        "2. **Slicing**: Grab whole sections  \n",
        "3. **Sorting**: Organize your data  \n",
        "4. **Real Use**: Filtering noisy sensor data  "
      ],
      "metadata": {
        "id": "XCUE8fRwo1E-"
      }
    },
    {
      "cell_type": "markdown",
      "source": [
        "## Basic Indexing  \n",
        "Just like Python lists, but works for multi-dimensional arrays!  \n",
        "\n",
        "Remember:  \n",
        "- **0-based** counting  \n",
        "- **Negative** numbers = from end  "
      ],
      "metadata": {
        "id": "sllSBWgQo9tC"
      }
    },
    {
      "cell_type": "code",
      "source": [
        "import numpy as np\n",
        "\n",
        "arr = np.array([10, 20, 30, 40, 50])\n",
        "\n",
        "print(\"First item:\", arr[0])    # 10\n",
        "print(\"Third item:\", arr[2])    # 30\n",
        "print(\"Last item:\", arr[-1])    # 50 (negative index)"
      ],
      "metadata": {
        "id": "gvltu0_lpDwB",
        "colab": {
          "base_uri": "https://localhost:8080/"
        },
        "outputId": "d4f5a63c-ec7f-47d1-cc53-e879cda5f763"
      },
      "execution_count": 2,
      "outputs": [
        {
          "output_type": "stream",
          "name": "stdout",
          "text": [
            "First item: 10\n",
            "Third item: 30\n",
            "Last item: 50\n"
          ]
        }
      ]
    },
    {
      "cell_type": "markdown",
      "source": [
        "## 🖇️ 2D Array Indexing  \n",
        "Access rows, columns, or specific cells with `[row, col]`  "
      ],
      "metadata": {
        "id": "p1N9W7xRpjvG"
      }
    },
    {
      "cell_type": "code",
      "source": [
        "matrix = np.array([\n",
        "    [1, 2, 3],\n",
        "    [4, 5, 6],\n",
        "    [7, 8, 9]\n",
        "])\n",
        "\n",
        "print(\"Second row:\", matrix[1])       # [4, 5, 6]\n",
        "print(\"Top-right corner:\", matrix[0, 2])  # 3\n",
        "print(\"Middle column:\", matrix[:, 1]) # [2, 5, 8] (all rows, column 1)"
      ],
      "metadata": {
        "colab": {
          "base_uri": "https://localhost:8080/"
        },
        "id": "U6XvcxX4pnHU",
        "outputId": "89541baf-e9ff-4dad-ea97-ab52b306ef64"
      },
      "execution_count": 3,
      "outputs": [
        {
          "output_type": "stream",
          "name": "stdout",
          "text": [
            "Second row: [4 5 6]\n",
            "Top-right corner: 3\n",
            "Middle column: [2 5 8]\n"
          ]
        }
      ]
    },
    {
      "cell_type": "markdown",
      "source": [
        "## 🔪 Slicing Arrays  \n",
        "Get sub-sections with `start:stop:step`  \n",
        "\n",
        "Example:  \n",
        "`arr[1:4]` → Items 1 **to 3** (4 is excluded)  "
      ],
      "metadata": {
        "id": "8jeqLaz2OKw9"
      }
    },
    {
      "cell_type": "code",
      "source": [
        "arr = np.array([0, 10, 20, 30, 40, 50])\n",
        "\n",
        "print(\"Middle items:\", arr[1:4])     # [10, 20, 30]\n",
        "print(\"Every other:\", arr[::2])      # [0, 20, 40]\n",
        "print(\"Reversed:\", arr[::-1])        # [50, 40, 30, 20, 10, 0]"
      ],
      "metadata": {
        "colab": {
          "base_uri": "https://localhost:8080/"
        },
        "id": "M338_sQVONWW",
        "outputId": "53155ac5-a9ad-42b3-9037-c67534b399d1"
      },
      "execution_count": 4,
      "outputs": [
        {
          "output_type": "stream",
          "name": "stdout",
          "text": [
            "Middle items: [10 20 30]\n",
            "Every other: [ 0 20 40]\n",
            "Reversed: [50 40 30 20 10  0]\n"
          ]
        }
      ]
    },
    {
      "cell_type": "markdown",
      "source": [
        "## Boolean Indexing (Super Useful!)  \n",
        "Filter arrays using True/False conditions  "
      ],
      "metadata": {
        "id": "yExg2JYFOgWh"
      }
    },
    {
      "cell_type": "code",
      "source": [
        "temps = np.array([22, 18, 25, 19, 30, 15])\n",
        "\n",
        "# Get temps above 20°C\n",
        "print(\"Warm days:\", temps[temps > 20])  # [22, 25, 30]\n",
        "\n",
        "# Set cold temps to -1\n",
        "temps[temps < 20] = -1\n",
        "print(\"Adjusted temps:\", temps)  # [22, -1, 25, -1, 30, -1]"
      ],
      "metadata": {
        "colab": {
          "base_uri": "https://localhost:8080/"
        },
        "id": "k67BxDdrOscH",
        "outputId": "b1543ac2-d970-40bf-8d9e-1ab99dcc6ace"
      },
      "execution_count": 5,
      "outputs": [
        {
          "output_type": "stream",
          "name": "stdout",
          "text": [
            "Warm days: [22 25 30]\n",
            "Adjusted temps: [22 -1 25 -1 30 -1]\n"
          ]
        }
      ]
    },
    {
      "cell_type": "markdown",
      "source": [
        "## 🔄 Sorting Arrays  \n",
        "- `np.sort()`: Returns sorted copy  \n",
        "- `.sort()`: Saves sorted array in-place  "
      ],
      "metadata": {
        "id": "RODLyChlPHpV"
      }
    },
    {
      "cell_type": "code",
      "source": [
        "scores = np.array([88, 72, 95, 60, 100])\n",
        "\n",
        "print(\"Sorted copy:\", np.sort(scores))  # [60, 72, 88, 95, 100]\n",
        "scores.sort()  # Changes original array\n",
        "print(\"Original sorted:\", scores)"
      ],
      "metadata": {
        "colab": {
          "base_uri": "https://localhost:8080/"
        },
        "id": "Glwzdco3PNFR",
        "outputId": "af3c19d2-a70c-4df7-8bf3-ca1c4b2ae7fa"
      },
      "execution_count": 6,
      "outputs": [
        {
          "output_type": "stream",
          "name": "stdout",
          "text": [
            "Sorted copy: [ 60  72  88  95 100]\n",
            "Original sorted: [ 60  72  88  95 100]\n"
          ]
        }
      ]
    },
    {
      "cell_type": "markdown",
      "source": [
        "## 📡 Cleaning Sensor Data  \n",
        "Filter out unrealistic values from measurements  "
      ],
      "metadata": {
        "id": "qraY3oX9PeeI"
      }
    },
    {
      "cell_type": "code",
      "source": [
        "# Simulate sensor readings (with some errors)\n",
        "readings = np.array([12.3, 45.6, 9999, 11.2, 9999, 14.5])\n",
        "\n",
        "# Replace errors (9999) with median\n",
        "median = np.median(readings[readings != 9999])\n",
        "clean_data = np.where(readings == 9999, median, readings)\n",
        "print(\"Clean data:\", clean_data)"
      ],
      "metadata": {
        "colab": {
          "base_uri": "https://localhost:8080/"
        },
        "id": "-P9eqLlvPpEK",
        "outputId": "6d35f41f-bf45-4e53-e973-8d4c28edc05b"
      },
      "execution_count": 7,
      "outputs": [
        {
          "output_type": "stream",
          "name": "stdout",
          "text": [
            "Clean data: [12.3 45.6 13.4 11.2 13.4 14.5]\n"
          ]
        }
      ]
    },
    {
      "cell_type": "markdown",
      "source": [
        "## Practice Time!  \n",
        "1. Create an array of 10 random numbers (0-100)  \n",
        "2. Find numbers > 50  \n",
        "3. Sort the array in descending order  \n",
        "4. Get every 3rd item from a 2D array  \n",
        "\n",
        "*(Solutions in next cell)*  "
      ],
      "metadata": {
        "id": "cQ9BwCFNQKsO"
      }
    },
    {
      "cell_type": "code",
      "source": [
        "# 1-2\n",
        "arr = np.random.randint(0, 101, 10)\n",
        "print(\">50:\", arr[arr > 50])\n",
        "\n",
        "# 3\n",
        "print(\"Descending:\", np.sort(arr)[::-1])\n",
        "\n",
        "# 4\n",
        "matrix = np.arange(1, 10).reshape(3, 3)\n",
        "print(\"Every 3rd:\", matrix[::2])  # Skip every other row"
      ],
      "metadata": {
        "colab": {
          "base_uri": "https://localhost:8080/"
        },
        "id": "0qbruohsQTq7",
        "outputId": "79ea9247-518a-4995-b415-e79ae1d46b5f"
      },
      "execution_count": 8,
      "outputs": [
        {
          "output_type": "stream",
          "name": "stdout",
          "text": [
            ">50: [93 70 64 89]\n",
            "Descending: [93 89 70 64 40 26 22 15 12  3]\n",
            "Every 3rd: [[1 2 3]\n",
            " [7 8 9]]\n"
          ]
        }
      ]
    }
  ]
}
