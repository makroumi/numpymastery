{
  "nbformat": 4,
  "nbformat_minor": 0,
  "metadata": {
    "colab": {
      "provenance": []
    },
    "kernelspec": {
      "name": "python3",
      "display_name": "Python 3"
    },
    "language_info": {
      "name": "python"
    }
  },
  "cells": [
    {
      "cell_type": "markdown",
      "source": [
        "# NumPy Notebook 4: Math & Broadcasting\n",
        "\"Doing magic with array calculations!\"\n",
        "\n"
      ],
      "metadata": {
        "id": "hzW4mOCKRTp1"
      }
    },
    {
      "cell_type": "markdown",
      "source": [
        "## What You'll Learn  \n",
        "1. **Universal Functions**: Fast math on arrays  \n",
        "2. **Broadcasting**: Math between different shapes  \n",
        "3. **Statistics**: Mean, median, standard deviation  \n",
        "4. **Real Use**: Analyzing exam scores  "
      ],
      "metadata": {
        "id": "BkQ4bPa_Rb1f"
      }
    },
    {
      "cell_type": "markdown",
      "source": [
        "## Universal Functions (ufuncs)  \n",
        "Fast math operations that work on **entire arrays** at once.  \n",
        "\n",
        "Common ufuncs:  \n",
        "- `np.add()`, `np.subtract()`  \n",
        "- `np.sin()`, `np.log()`  \n",
        "- `np.isnan()`  "
      ],
      "metadata": {
        "id": "kyuvREbKRiod"
      }
    },
    {
      "cell_type": "code",
      "source": [
        "import numpy as np\n",
        "\n",
        "angles = np.array([0, 30, 45, 90])\n",
        "radians = np.deg2rad(angles)  # Convert to radians\n",
        "print(\"Sines:\", np.sin(radians))  # [0. , 0.5, 0.707, 1. ]\n",
        "\n",
        "# Calculate 2^x for all x\n",
        "powers = np.array([1, 2, 3])\n",
        "print(\"2^pows:\", 2 ** powers)  # [2, 4, 8]"
      ],
      "metadata": {
        "colab": {
          "base_uri": "https://localhost:8080/"
        },
        "id": "7Fw6ruA0RrcN",
        "outputId": "be2be778-cee2-4420-922a-acd9b949e3eb"
      },
      "execution_count": 1,
      "outputs": [
        {
          "output_type": "stream",
          "name": "stdout",
          "text": [
            "Sines: [0.         0.5        0.70710678 1.        ]\n",
            "2^pows: [2 4 8]\n"
          ]
        }
      ]
    },
    {
      "cell_type": "markdown",
      "source": [
        "## Broadcasting Rules  \n",
        "NumPy can do math between arrays of **different shapes** if:  \n",
        "1. Their dimensions match, or  \n",
        "2. One has size 1 in a dimension  \n",
        "\n",
        "Think of it like stretching smaller arrays to fit!"
      ],
      "metadata": {
        "id": "uu24U0JDS_95"
      }
    },
    {
      "cell_type": "code",
      "source": [
        "# Adding scalar to array (stretched automatically)\n",
        "arr = np.array([1, 2, 3])\n",
        "print(\"Add 5:\", arr + 5)  # [6, 7, 8]\n",
        "\n",
        "# 2D + 1D\n",
        "matrix = np.array([[1, 2], [3, 4]])\n",
        "vector = np.array([10, 20])\n",
        "print(\"Matrix + Vector:\\n\", matrix + vector)  # [[11,22],[13,24]]"
      ],
      "metadata": {
        "colab": {
          "base_uri": "https://localhost:8080/"
        },
        "id": "CYSsSAuzTQ8R",
        "outputId": "f6b7fd4e-8502-4a72-8c4a-6bef7203caef"
      },
      "execution_count": 2,
      "outputs": [
        {
          "output_type": "stream",
          "name": "stdout",
          "text": [
            "Add 5: [6 7 8]\n",
            "Matrix + Vector:\n",
            " [[11 22]\n",
            " [13 24]]\n"
          ]
        }
      ]
    },
    {
      "cell_type": "markdown",
      "source": [
        "## Image Brightness Adjustment  \n",
        "Broadcasting shines in real tasks like image processing!"
      ],
      "metadata": {
        "id": "t6iRo5xtTduy"
      }
    },
    {
      "cell_type": "code",
      "source": [
        "# Simulate 3x3 grayscale image (0=black, 255=white)\n",
        "image = np.array([\n",
        "    [50, 100, 150],\n",
        "    [200, 50, 100],\n",
        "    [50, 200, 50]\n",
        "])\n",
        "\n",
        "# Increase brightness by 50 (applies to all pixels)\n",
        "brighter = np.clip(image + 50, 0, 255)  # Clip to valid range\n",
        "print(\"Brighter image:\\n\", brighter)"
      ],
      "metadata": {
        "colab": {
          "base_uri": "https://localhost:8080/"
        },
        "id": "OfOTPc2qThIs",
        "outputId": "3f1bdffe-613e-44dc-fa55-c00d97deac6a"
      },
      "execution_count": 3,
      "outputs": [
        {
          "output_type": "stream",
          "name": "stdout",
          "text": [
            "Brighter image:\n",
            " [[100 150 200]\n",
            " [250 100 150]\n",
            " [100 250 100]]\n"
          ]
        }
      ]
    },
    {
      "cell_type": "markdown",
      "source": [
        "## Basic Statistics  \n",
        "Essential for data analysis!"
      ],
      "metadata": {
        "id": "hm1st4C1UB57"
      }
    },
    {
      "cell_type": "code",
      "source": [
        "scores = np.array([88, 72, 95, 60, 100])\n",
        "\n",
        "print(\"Mean:\", np.mean(scores))\n",
        "print(\"Median:\", np.median(scores))\n",
        "print(\"Standard Dev:\", np.std(scores))\n",
        "print(\"Max score:\", scores.max())\n",
        "\n",
        "# Axis-based stats for 2D\n",
        "data = np.array([[1, 2], [3, 4]])\n",
        "print(\"Column means:\", np.mean(data, axis=0))  # [2., 3.]"
      ],
      "metadata": {
        "colab": {
          "base_uri": "https://localhost:8080/"
        },
        "id": "hEImnpu-UE4j",
        "outputId": "8c23a24a-bb32-458e-8b77-9348df42937c"
      },
      "execution_count": 4,
      "outputs": [
        {
          "output_type": "stream",
          "name": "stdout",
          "text": [
            "Mean: 83.0\n",
            "Median: 88.0\n",
            "Standard Dev: 14.886235252742717\n",
            "Max score: 100\n",
            "Column means: [2. 3.]\n"
          ]
        }
      ]
    },
    {
      "cell_type": "markdown",
      "source": [
        "## Temperature Analysis  \n",
        "Calculate daily stats from sensor data  "
      ],
      "metadata": {
        "id": "i__xb5PkUZt9"
      }
    },
    {
      "cell_type": "code",
      "source": [
        "# Simulate weekly temps (7 days, 24 hours)\n",
        "temps = np.random.randint(15, 35, (7, 24))\n",
        "print(temps)\n",
        "print(\"Weekly avg:\", np.mean(temps))\n",
        "print(\"Daily highs:\", temps.max(axis=1))  # Max per day\n",
        "print(\"Hourly avgs:\", temps.mean(axis=0))  # Avg per hour"
      ],
      "metadata": {
        "colab": {
          "base_uri": "https://localhost:8080/"
        },
        "id": "ReulTYzQUxnk",
        "outputId": "eccd698b-3d3d-4a29-95c2-86bb48882e3b"
      },
      "execution_count": 6,
      "outputs": [
        {
          "output_type": "stream",
          "name": "stdout",
          "text": [
            "[[17 23 34 30 28 31 29 26 20 29 27 21 17 16 26 29 25 19 26 32 32 32 27 23]\n",
            " [17 26 26 30 34 24 32 33 23 33 23 31 30 18 18 31 18 29 24 32 19 29 32 17]\n",
            " [31 19 20 19 34 27 19 25 29 24 29 30 21 22 33 17 16 33 32 16 20 20 30 15]\n",
            " [15 15 32 17 28 23 25 20 30 27 19 19 25 25 32 16 21 16 24 18 32 19 17 15]\n",
            " [16 26 18 30 26 30 33 19 27 16 23 30 24 21 18 20 27 33 19 30 23 16 15 33]\n",
            " [30 31 29 25 17 21 29 31 22 34 32 30 34 22 16 22 21 28 28 20 24 16 24 18]\n",
            " [19 18 17 33 19 18 19 17 21 18 15 33 20 18 26 24 21 22 21 30 27 15 21 18]]\n",
            "Weekly avg: 24.083333333333332\n",
            "Daily highs: [34 34 34 32 33 34 33]\n",
            "Hourly avgs: [20.71428571 22.57142857 25.14285714 26.28571429 26.57142857 24.85714286\n",
            " 26.57142857 24.42857143 24.57142857 25.85714286 24.         27.71428571\n",
            " 24.42857143 20.28571429 24.14285714 22.71428571 21.28571429 25.71428571\n",
            " 24.85714286 25.42857143 25.28571429 21.         23.71428571 19.85714286]\n"
          ]
        }
      ]
    },
    {
      "cell_type": "markdown",
      "source": [
        "## Practice Time!  \n",
        "1. Create 3x3 array and subtract 5 from all values  \n",
        "2. Calculate row-wise means for a 2D array  \n",
        "3. Multiply a 3x1 array by a 1x3 array using broadcasting  \n",
        "4. Find days where max temp > 30°C (from Cell 6)  \n",
        "\n",
        "*(Solutions in next cell)*  "
      ],
      "metadata": {
        "id": "LM7JkWcZU6fn"
      }
    },
    {
      "cell_type": "code",
      "source": [
        "# 1\n",
        "arr = np.arange(1, 10).reshape(3, 3)\n",
        "print(\"Subtracted:\\n\", arr - 5)\n",
        "\n",
        "# 2\n",
        "print(\"Row means:\", arr.mean(axis=1))\n",
        "\n",
        "# 3\n",
        "a = np.array([[1], [2], [3]])  # 3x1\n",
        "b = np.array([10, 20, 30])     # 1x3\n",
        "print(\"Broadcast multiply:\\n\", a * b)  # 3x3 result\n",
        "\n",
        "# 4 (using temps from Cell 6)\n",
        "print(\"Hot days:\", np.where(temps.max(axis=1) > 30)[0])"
      ],
      "metadata": {
        "colab": {
          "base_uri": "https://localhost:8080/"
        },
        "id": "37eMC3sLU-GT",
        "outputId": "53be2117-5056-48da-efb7-6e5fa63658ee"
      },
      "execution_count": 7,
      "outputs": [
        {
          "output_type": "stream",
          "name": "stdout",
          "text": [
            "Subtracted:\n",
            " [[-4 -3 -2]\n",
            " [-1  0  1]\n",
            " [ 2  3  4]]\n",
            "Row means: [2. 5. 8.]\n",
            "Broadcast multiply:\n",
            " [[10 20 30]\n",
            " [20 40 60]\n",
            " [30 60 90]]\n",
            "Hot days: [0 1 2 3 4 5 6]\n"
          ]
        }
      ]
    }
  ]
}
