{
  "nbformat": 4,
  "nbformat_minor": 0,
  "metadata": {
    "colab": {
      "provenance": []
    },
    "kernelspec": {
      "name": "python3",
      "display_name": "Python 3"
    },
    "language_info": {
      "name": "python"
    }
  },
  "cells": [
    {
      "cell_type": "markdown",
      "source": [
        "# NumPy Notebook 5: Advanced Array Operations\n",
        "\"Tools for real data science and AI projects!\""
      ],
      "metadata": {
        "id": "sVSV3bs0WJ6T"
      }
    },
    {
      "cell_type": "markdown",
      "source": [
        "## What You'll Learn  \n",
        "1. **Masked Arrays**: Handle missing data  \n",
        "2. **Polynomials**: Fit curves to data  \n",
        "3. **Linear Algebra**: Dot products, equations  \n",
        "4. **Real Use**: Image filters, stock trends  "
      ],
      "metadata": {
        "id": "9zVzSYG7WQjD"
      }
    },
    {
      "cell_type": "markdown",
      "source": [
        "## Masked Arrays  \n",
        "Work with incomplete data (e.g., sensor gaps, survey blanks)  "
      ],
      "metadata": {
        "id": "SmuX8iWlX1JI"
      }
    },
    {
      "cell_type": "code",
      "source": [
        "import numpy as np\n",
        "import numpy.ma as ma\n",
        "\n",
        "# Temperatures with faulty sensor (-999 = missing)\n",
        "temps = np.array([22, -999, 25, 19, -999, 27])\n",
        "masked_temps = ma.masked_where(temps == -999, temps)\n",
        "\n",
        "print(\"Masked data:\", masked_temps)  # [22, --, 25, 19, --, 27]\n",
        "print(\"Average (ignoring missing):\", masked_temps.mean())  # 23.25"
      ],
      "metadata": {
        "colab": {
          "base_uri": "https://localhost:8080/"
        },
        "id": "WlZu0rw3X2bk",
        "outputId": "f712bb0e-2c48-43d7-c4b7-daff511a7f6f"
      },
      "execution_count": 1,
      "outputs": [
        {
          "output_type": "stream",
          "name": "stdout",
          "text": [
            "Masked data: [22 -- 25 19 -- 27]\n",
            "Average (ignoring missing): 23.25\n"
          ]
        }
      ]
    },
    {
      "cell_type": "markdown",
      "source": [
        "## Polynomial Math  \n",
        "Find trends in data (e.g., temperature rise over years)  "
      ],
      "metadata": {
        "id": "4TMWhe_iYA8s"
      }
    },
    {
      "cell_type": "code",
      "source": [
        "# Sample sales growth (2010-2020)\n",
        "years = np.arange(2010, 2021)\n",
        "sales = np.array([5, 7, 9, 11, 13, 15, 23, 31, 39, 45, 51])\n",
        "# Fit quadratic curve (degree=2)\n",
        "coeffs = np.polyfit(years, sales, 2)\n",
        "trend_curve = np.poly1d(coeffs)\n",
        "\n",
        "print(\"2025 prediction:\", trend_curve(2025))"
      ],
      "metadata": {
        "colab": {
          "base_uri": "https://localhost:8080/"
        },
        "id": "0pGZEbWLYGRc",
        "outputId": "f2571f29-23d3-41e7-83a2-52f8fdca33ef"
      },
      "execution_count": 4,
      "outputs": [
        {
          "output_type": "stream",
          "name": "stdout",
          "text": [
            "2025 prediction: 109.74125874089077\n"
          ]
        }
      ]
    },
    {
      "cell_type": "markdown",
      "source": [
        "## Linear Algebra (ML Building Blocks)  \n",
        "Key operations for machine learning:  \n",
        "- Dot products (neural networks)  \n",
        "- Matrix inversion (linear regression)  "
      ],
      "metadata": {
        "id": "N-OwnlXVYtKi"
      }
    },
    {
      "cell_type": "code",
      "source": [
        "# Neural network layer simulation\n",
        "inputs = np.array([0.5, 0.1])  # 2 features\n",
        "weights = np.array([[0.4, 0.3],  # 2x3 weight matrix\n",
        "                   [0.2, 0.5]])\n",
        "\n",
        "# Forward pass (dot product)\n",
        "output = np.dot(inputs, weights)\n",
        "print(\"Neural output:\", output)  # [0.22, 0.2]"
      ],
      "metadata": {
        "colab": {
          "base_uri": "https://localhost:8080/"
        },
        "id": "TOpMjh2dYyYt",
        "outputId": "5d088e55-1fb9-4052-9c14-97d26db6e783"
      },
      "execution_count": 5,
      "outputs": [
        {
          "output_type": "stream",
          "name": "stdout",
          "text": [
            "Neural output: [0.22 0.2 ]\n"
          ]
        }
      ]
    },
    {
      "cell_type": "markdown",
      "source": [
        "## Image Edge Detection  \n",
        "NumPy + broadcasting = custom filters!  "
      ],
      "metadata": {
        "id": "c4qXvFU4Z3U1"
      }
    },
    {
      "cell_type": "code",
      "source": [
        "# Simple horizontal edge detector\n",
        "image = np.array([[100, 100, 100, 0],   # Sample grayscale\n",
        "                 [100, 100, 100, 0],    # image (4x4)\n",
        "                 [100, 100, 100, 0],\n",
        "                 [100, 100, 100, 0]])\n",
        "\n",
        "# Kernel filter (detects horizontal edges)\n",
        "kernel = np.array([[1, 1, 1],\n",
        "                  [0, 0, 0],\n",
        "                  [-1, -1, -1]])\n",
        "\n",
        "# Manual convolution (slide kernel over image)\n",
        "edges = np.zeros((2, 2))\n",
        "for i in range(2):\n",
        "    for j in range(2):\n",
        "        window = image[i:i+3, j:j+3]\n",
        "        edges[i,j] = np.sum(window * kernel)\n",
        "\n",
        "print(\"Edges detected:\\n\", edges)"
      ],
      "metadata": {
        "colab": {
          "base_uri": "https://localhost:8080/"
        },
        "id": "Z71ZMtsJZ4aF",
        "outputId": "71de217f-ca03-4916-fb13-6064f5d940eb"
      },
      "execution_count": 6,
      "outputs": [
        {
          "output_type": "stream",
          "name": "stdout",
          "text": [
            "Edges detected:\n",
            " [[0. 0.]\n",
            " [0. 0.]]\n"
          ]
        }
      ]
    },
    {
      "cell_type": "markdown",
      "source": [
        "## Simple Stock Trends  \n",
        "Calculate moving averages and volatility  "
      ],
      "metadata": {
        "id": "4CGYYrg9bEUy"
      }
    },
    {
      "cell_type": "code",
      "source": [
        "# Simulate 30 days of stock prices\n",
        "prices = np.cumsum(np.random.randn(30) * 10 + 100)\n",
        "\n",
        "# 5-day moving average\n",
        "moving_avg = np.convolve(prices, np.ones(5)/5, mode='valid')\n",
        "\n",
        "print(\"Last 5 days avg:\", moving_avg[-1])\n",
        "print(\"Daily volatility:\", np.std(np.diff(prices)))"
      ],
      "metadata": {
        "colab": {
          "base_uri": "https://localhost:8080/"
        },
        "id": "0_R6bOQfbHt7",
        "outputId": "848c893d-822a-49c7-d161-ab8f27edcd4c"
      },
      "execution_count": 7,
      "outputs": [
        {
          "output_type": "stream",
          "name": "stdout",
          "text": [
            "Last 5 days avg: 2762.565929091365\n",
            "Daily volatility: 7.825346002290197\n"
          ]
        }
      ]
    },
    {
      "cell_type": "markdown",
      "source": [
        "## Practice Time!  \n",
        "1. Create masked array from `[1, -99, 3, -99, 5]` (mask -99)  \n",
        "2. Fit a linear trend to `y = [2, 4, 6, 8]` and predict x=5  \n",
        "3. Multiply 2x3 and 3x2 matrices with `np.dot()`  \n",
        "4. Calculate 3-day moving average for `prices = [10,11,12,13,14]`  \n",
        "\n",
        "*(Solutions in next cell)*  "
      ],
      "metadata": {
        "id": "-oYc76U0cSs3"
      }
    },
    {
      "cell_type": "code",
      "source": [
        "# 1\n",
        "data = np.array([1, -99, 3, -99, 5])\n",
        "masked_data = ma.masked_where(data == -99, data)\n",
        "\n",
        "# 2\n",
        "coeffs = np.polyfit([1,2,3,4], [2,4,6,8], 1)\n",
        "print(\"x=5 prediction:\", np.poly1d(coeffs)(5))  # 10.0\n",
        "\n",
        "# 3\n",
        "a = np.arange(1,7).reshape(2,3)\n",
        "b = np.arange(7,13).reshape(3,2)\n",
        "print(\"Matrix product:\\n\", np.dot(a, b))\n",
        "\n",
        "# 4\n",
        "print(\"Moving avg:\", np.convolve([10,11,12,13,14], np.ones(3)/3, 'valid'))"
      ],
      "metadata": {
        "colab": {
          "base_uri": "https://localhost:8080/"
        },
        "id": "nCB2RwWScejo",
        "outputId": "a134b4b3-e4bd-4e7a-bf2d-02a269bc97ce"
      },
      "execution_count": 9,
      "outputs": [
        {
          "output_type": "stream",
          "name": "stdout",
          "text": [
            "x=5 prediction: 10.0\n",
            "Matrix product:\n",
            " [[ 58  64]\n",
            " [139 154]]\n",
            "Moving avg: [11. 12. 13.]\n"
          ]
        }
      ]
    }
  ]
}
