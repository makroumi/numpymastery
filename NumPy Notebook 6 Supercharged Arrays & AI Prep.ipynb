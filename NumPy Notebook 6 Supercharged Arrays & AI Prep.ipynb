{
  "nbformat": 4,
  "nbformat_minor": 0,
  "metadata": {
    "colab": {
      "provenance": []
    },
    "kernelspec": {
      "name": "python3",
      "display_name": "Python 3"
    },
    "language_info": {
      "name": "python"
    }
  },
  "cells": [
    {
      "cell_type": "markdown",
      "source": [
        "# NumPy Notebook 6: Supercharged Arrays & AI Prep\n",
        "\"Making your code FAST and ready for AI projects!\""
      ],
      "metadata": {
        "id": "69qeK_brd6ts"
      }
    },
    {
      "cell_type": "markdown",
      "source": [
        "## What You'll Learn  \n",
        "1. **Vectorization**: Replace slow loops with lightning-fast operations  \n",
        "2. **Memory Tricks**: Views vs. copies (save RAM!)  \n",
        "3. **AI Prep**: How NumPy works with PyTorch/TensorFlow  \n",
        "4. **Real Use**: Processing a whole photo album at once  "
      ],
      "metadata": {
        "id": "1ZB7B6xPd-Xo"
      }
    },
    {
      "cell_type": "markdown",
      "source": [
        "## Vectorization = Doing math to ALL elements at once  \n",
        "\n",
        " **Slow Way (Loop)**  "
      ],
      "metadata": {
        "id": "04deecBKeBal"
      }
    },
    {
      "cell_type": "code",
      "source": [
        "#python\n",
        "numbers = [1, 2, 3, 4]\n",
        "doubled = []\n",
        "for n in numbers:\n",
        "    doubled.append(n * 2)  # 🐢 One by one..."
      ],
      "metadata": {
        "id": "ILrvocjyeO-S"
      },
      "execution_count": 1,
      "outputs": []
    },
    {
      "cell_type": "code",
      "source": [
        "#numpy\n",
        "import numpy as np\n",
        "numbers = np.array([1, 2, 3, 4])\n",
        "doubled = numbers * 2  # Vectorized!"
      ],
      "metadata": {
        "id": "NjMwG3DAerxg"
      },
      "execution_count": 4,
      "outputs": []
    },
    {
      "cell_type": "markdown",
      "source": [
        "\n",
        "---\n",
        "\n",
        "#### **Cell 3: Memory Efficiency (Views vs. Copies)**  \n",
        "```markdown\n",
        "## Memory Game  \n",
        "- **Copy**: Duplicates data (safe but uses 2x RAM)  \n",
        "- **View**: Shares data (memory-friendly but edits affect original)  "
      ],
      "metadata": {
        "id": "ldlj4BRse4lk"
      }
    },
    {
      "cell_type": "code",
      "source": [
        "original = np.array([10, 20, 30])\n",
        "\n",
        "# View (like a window)\n",
        "view = original[:2]  # [10, 20]\n",
        "view[0] = 100  # Also changes original!\n",
        "\n",
        "# Copy (like photocopy)\n",
        "copy = original.copy()\n",
        "copy[0] = 999  # Original stays safe\n",
        "\n",
        "print(\"Original:\", original)  # [100, 20, 30]"
      ],
      "metadata": {
        "colab": {
          "base_uri": "https://localhost:8080/"
        },
        "id": "jRxPEzi8e9-f",
        "outputId": "20dddc34-b79c-4103-f903-2e2f8ea4f855"
      },
      "execution_count": 5,
      "outputs": [
        {
          "output_type": "stream",
          "name": "stdout",
          "text": [
            "Original: [100  20  30]\n"
          ]
        }
      ]
    },
    {
      "cell_type": "markdown",
      "source": [
        "## 🚶‍♂️ Strides = How NumPy Walks Through Memory  \n",
        "*(Imagine reading a book by skipping pages!)*  "
      ],
      "metadata": {
        "id": "Qxq6NXbnfl8d"
      }
    },
    {
      "cell_type": "code",
      "source": [
        "arr = np.arange(1, 10).reshape(3, 3)\n",
        "print(\"Strides:\", arr.strides)  # (12, 4) = bytes to next row/column\n",
        "\n",
        "# Transpose just changes strides (no new data!)\n",
        "transposed = arr.T\n",
        "print(\"Transposed strides:\", transposed.strides)  # (4, 12)"
      ],
      "metadata": {
        "colab": {
          "base_uri": "https://localhost:8080/"
        },
        "id": "KHxB2KXffrrH",
        "outputId": "79ee875e-c9cd-4003-8f0b-3d13e9216e6d"
      },
      "execution_count": 6,
      "outputs": [
        {
          "output_type": "stream",
          "name": "stdout",
          "text": [
            "Strides: (24, 8)\n",
            "Transposed strides: (8, 24)\n"
          ]
        }
      ]
    },
    {
      "cell_type": "markdown",
      "source": [
        "## NumPy for AI  \n",
        "All AI tools use NumPy-style arrays underneath!  \n"
      ],
      "metadata": {
        "id": "7vhppQ5Wgv-u"
      }
    },
    {
      "cell_type": "code",
      "source": [
        "# Sample: Convert NumPy to PyTorch\n",
        "import torch\n",
        "numpy_data = np.array([1, 2, 3])\n",
        "torch_data = torch.from_numpy(numpy_data)  # Same memory!\n",
        "\n",
        "print(\"PyTorch version:\", torch_data)"
      ],
      "metadata": {
        "colab": {
          "base_uri": "https://localhost:8080/"
        },
        "id": "qteKgh3fg0DW",
        "outputId": "84f6fa93-f189-4084-a894-53172eeadc0a"
      },
      "execution_count": 7,
      "outputs": [
        {
          "output_type": "stream",
          "name": "stdout",
          "text": [
            "PyTorch version: tensor([1, 2, 3])\n"
          ]
        }
      ]
    },
    {
      "cell_type": "markdown",
      "source": [
        "## Process 1000 Photos at Once  \n",
        "*(Instead of one by one!)*  "
      ],
      "metadata": {
        "id": "hV2g5pcNhd18"
      }
    },
    {
      "cell_type": "code",
      "source": [
        "# Simulate 1000 grayscale photos (each 28x28 pixels)\n",
        "photos = np.random.randint(0, 256, (1000, 28, 28))\n",
        "\n",
        "# Brighten ALL photos in one line!\n",
        "bright_photos = np.clip(photos + 50, 0, 255)\n",
        "\n",
        "print(\"First photo before/after:\\n\", photos[0], \"\\n---\\n\", bright_photos[0])"
      ],
      "metadata": {
        "colab": {
          "base_uri": "https://localhost:8080/"
        },
        "id": "76z5aNhAhgr6",
        "outputId": "23af44fb-6ddc-4bcb-e40d-a0a79d9a07d8"
      },
      "execution_count": 8,
      "outputs": [
        {
          "output_type": "stream",
          "name": "stdout",
          "text": [
            "First photo before/after:\n",
            " [[119 238 106 205 137  28  52   6  95 193 110 120  59  56 166 212  27 185\n",
            "  238 221 134 124 154 183 227 246 204 134]\n",
            " [ 29  41 137  36 143 132 119 100 140  26  62 243   9 120 210 159  58   8\n",
            "  147 246 209   3 109   7  33  10  95  47]\n",
            " [250 178 234 121 208  87  73 218  45 204  53 232   6  32 198 236 208 156\n",
            "  168  97 118 228  57 203   0  43   1 234]\n",
            " [ 73  19 145 160  71  77 186 108  50 103 115  99  23 128 213  81 243  30\n",
            "  143  99 195 240   8 135 114 118 233 242]\n",
            " [ 60  61  69 194  14  96 229 101  64 158  97 203  91 207 169  61 176 131\n",
            "  242  16 149  51  76 223 250  56 217 117]\n",
            " [ 35  58 179  31 251 141 156 235   0 139 148 202  50   4 191 120  79  47\n",
            "  139 234 160 174 237   2 105 150 176 235]\n",
            " [100  83 165 133 234 188 185 247  71 236 204  27 124 144 174   0 220 250\n",
            "   79 145  62 246  20  93 147   8 138  29]\n",
            " [228 240  18 189 190  40  66 214 226 202 125  13 215  50 242 177   4  41\n",
            "  216 109 162  73 252 198 211  42 187   3]\n",
            " [226   2 218 227 148 204 214 250  28   4 230 161 253   4 121  29 217 163\n",
            "  122 181 236 191 121  51  19 197  66 179]\n",
            " [126  98 114 180  13 246 214 247  19 129  78  77 125 216 166 179  95  40\n",
            "   95  91  44  66 173  86  26 182  30 118]\n",
            " [220 252 179 230 213 207  94  69 221 223 128 184  45 195 221 121  92  41\n",
            "  155 181   2  10 106 171 109  78  55  54]\n",
            " [ 21  63  56 120   0  98 217  80 119  54 177 222  86  88 191   4 207 152\n",
            "  131 232  19  82 224 143 126  23 217 242]\n",
            " [202 192 197 132  42  51 201  99  25  18 132  17  93  20 244 251  89 115\n",
            "   25  20 123  22 240 149   8 124 243  82]\n",
            " [ 94 228 224  16 161  46 208  26  94 104 107  99   9 129  80  41  10 179\n",
            "  120  43  70  43   4 148 182 119 240  39]\n",
            " [ 33 170 205 131 222 205 158 126  68 208 189 118 166 105 190 103  25 201\n",
            "    6 190 237  37 203 252 235 148 135 242]\n",
            " [137  10  81 163  17 248  90  79 212  74  63  35 101 167 200 135 118  45\n",
            "  186 191  78 153 181  16  44 197  70  99]\n",
            " [ 48 135 230 247 217  95  64  24 195  72  77 153 233 145  27  54 244  49\n",
            "  198 176  64 252  15 210 196   5  48  47]\n",
            " [171  18 244 245 102 198 255  10  41  83 147 147  29 219  21 187 130  37\n",
            "   55 154 175 223  40 210 250 108 100  84]\n",
            " [ 31  26 162  80 194 128 116 210  90  34  19  13 181 126  21 178 200  85\n",
            "  127 110  76  40 249  92 125   9 224   2]\n",
            " [231  47 208  65 166 207 241 186 136 141  54  70  52  86  89 220 169  93\n",
            "   84 220 187 149  69 149 138 250 111  21]\n",
            " [136  37  76 181 184 158  60 183 201 250 207 237 239 104 244  36 233 173\n",
            "  159 176 190 133 239 127  80   4  44 143]\n",
            " [254  72 221 225 188  59  22   0 187 220 210 188  13 103  27 160  22  23\n",
            "  195 223  25 202 198 208   7 209  87  23]\n",
            " [140  83 109 253 155  83 240 201  53  97  53 131 113   4  25  84 181 212\n",
            "   49  58  32 118 168 112 175 234 193 241]\n",
            " [ 52 186 186 178 198  86 121  11 114 149 198 164 244 184 197  86 111  38\n",
            "  191  60 167 125  23  78 231 186  69  71]\n",
            " [ 98 252  74 252 198 191   0 137  56  73  34  67  81 174 159  81 175 151\n",
            "  168 138 105  74  55  95 234  97 103  26]\n",
            " [185  38 143  14  79 119 188  98 101   1 182 205 121 123 231 130 197  93\n",
            "  152 132 169 128 123 246 108 144 183  76]\n",
            " [ 96 248  71  71 161 149  20  38 217  87 203  14  20 206 123 220 192  12\n",
            "   16 199   2 203 238  10 254 251  26  35]\n",
            " [148 106 172 214  12  46  64 104 112  67  18 217 149 218  83  77  83 232\n",
            "  212 152 162 226 140  15 164  50 136   1]] \n",
            "---\n",
            " [[169 255 156 255 187  78 102  56 145 243 160 170 109 106 216 255  77 235\n",
            "  255 255 184 174 204 233 255 255 254 184]\n",
            " [ 79  91 187  86 193 182 169 150 190  76 112 255  59 170 255 209 108  58\n",
            "  197 255 255  53 159  57  83  60 145  97]\n",
            " [255 228 255 171 255 137 123 255  95 254 103 255  56  82 248 255 255 206\n",
            "  218 147 168 255 107 253  50  93  51 255]\n",
            " [123  69 195 210 121 127 236 158 100 153 165 149  73 178 255 131 255  80\n",
            "  193 149 245 255  58 185 164 168 255 255]\n",
            " [110 111 119 244  64 146 255 151 114 208 147 253 141 255 219 111 226 181\n",
            "  255  66 199 101 126 255 255 106 255 167]\n",
            " [ 85 108 229  81 255 191 206 255  50 189 198 252 100  54 241 170 129  97\n",
            "  189 255 210 224 255  52 155 200 226 255]\n",
            " [150 133 215 183 255 238 235 255 121 255 254  77 174 194 224  50 255 255\n",
            "  129 195 112 255  70 143 197  58 188  79]\n",
            " [255 255  68 239 240  90 116 255 255 252 175  63 255 100 255 227  54  91\n",
            "  255 159 212 123 255 248 255  92 237  53]\n",
            " [255  52 255 255 198 254 255 255  78  54 255 211 255  54 171  79 255 213\n",
            "  172 231 255 241 171 101  69 247 116 229]\n",
            " [176 148 164 230  63 255 255 255  69 179 128 127 175 255 216 229 145  90\n",
            "  145 141  94 116 223 136  76 232  80 168]\n",
            " [255 255 229 255 255 255 144 119 255 255 178 234  95 245 255 171 142  91\n",
            "  205 231  52  60 156 221 159 128 105 104]\n",
            " [ 71 113 106 170  50 148 255 130 169 104 227 255 136 138 241  54 255 202\n",
            "  181 255  69 132 255 193 176  73 255 255]\n",
            " [252 242 247 182  92 101 251 149  75  68 182  67 143  70 255 255 139 165\n",
            "   75  70 173  72 255 199  58 174 255 132]\n",
            " [144 255 255  66 211  96 255  76 144 154 157 149  59 179 130  91  60 229\n",
            "  170  93 120  93  54 198 232 169 255  89]\n",
            " [ 83 220 255 181 255 255 208 176 118 255 239 168 216 155 240 153  75 251\n",
            "   56 240 255  87 253 255 255 198 185 255]\n",
            " [187  60 131 213  67 255 140 129 255 124 113  85 151 217 250 185 168  95\n",
            "  236 241 128 203 231  66  94 247 120 149]\n",
            " [ 98 185 255 255 255 145 114  74 245 122 127 203 255 195  77 104 255  99\n",
            "  248 226 114 255  65 255 246  55  98  97]\n",
            " [221  68 255 255 152 248 255  60  91 133 197 197  79 255  71 237 180  87\n",
            "  105 204 225 255  90 255 255 158 150 134]\n",
            " [ 81  76 212 130 244 178 166 255 140  84  69  63 231 176  71 228 250 135\n",
            "  177 160 126  90 255 142 175  59 255  52]\n",
            " [255  97 255 115 216 255 255 236 186 191 104 120 102 136 139 255 219 143\n",
            "  134 255 237 199 119 199 188 255 161  71]\n",
            " [186  87 126 231 234 208 110 233 251 255 255 255 255 154 255  86 255 223\n",
            "  209 226 240 183 255 177 130  54  94 193]\n",
            " [255 122 255 255 238 109  72  50 237 255 255 238  63 153  77 210  72  73\n",
            "  245 255  75 252 248 255  57 255 137  73]\n",
            " [190 133 159 255 205 133 255 251 103 147 103 181 163  54  75 134 231 255\n",
            "   99 108  82 168 218 162 225 255 243 255]\n",
            " [102 236 236 228 248 136 171  61 164 199 248 214 255 234 247 136 161  88\n",
            "  241 110 217 175  73 128 255 236 119 121]\n",
            " [148 255 124 255 248 241  50 187 106 123  84 117 131 224 209 131 225 201\n",
            "  218 188 155 124 105 145 255 147 153  76]\n",
            " [235  88 193  64 129 169 238 148 151  51 232 255 171 173 255 180 247 143\n",
            "  202 182 219 178 173 255 158 194 233 126]\n",
            " [146 255 121 121 211 199  70  88 255 137 253  64  70 255 173 255 242  62\n",
            "   66 249  52 253 255  60 255 255  76  85]\n",
            " [198 156 222 255  62  96 114 154 162 117  68 255 199 255 133 127 133 255\n",
            "  255 202 212 255 190  65 214 100 186  51]]\n"
          ]
        }
      ]
    },
    {
      "cell_type": "markdown",
      "source": [
        "## Practice Time!  \n",
        "1. Vectorize: Convert `[0°C, 10°C, 20°C]` to Fahrenheit (F = C × 9/5 + 32)  \n",
        "2. Make a view and a copy of a 2D array, modify both  \n",
        "3. Convert a NumPy array to PyTorch and back  \n",
        "4. Bonus: Process `photos` to invert colors (255 - pixel values)  \n",
        "\n",
        "*(Solutions in next cell)*  "
      ],
      "metadata": {
        "id": "wd8oo2ach7OH"
      }
    },
    {
      "cell_type": "code",
      "source": [
        "# 1\n",
        "celsius = np.array([0, 10, 20])\n",
        "fahrenheit = celsius * 9/5 + 32  # Vectorized!\n",
        "\n",
        "# 2\n",
        "arr = np.array([[1, 2], [3, 4]])\n",
        "view = arr[0, :]  # View of first row\n",
        "copy = arr.copy()  # Full copy\n",
        "view[0] = 99  # Changes arr too!\n",
        "\n",
        "# 3\n",
        "numpy_arr = np.array([5, 6, 7])\n",
        "torch_arr = torch.from_numpy(numpy_arr)\n",
        "back_to_numpy = torch_arr.numpy()\n",
        "\n",
        "# 4\n",
        "inverted_photos = 255 - photos"
      ],
      "metadata": {
        "id": "Mb_-oToNiE1-"
      },
      "execution_count": 9,
      "outputs": []
    }
  ]
}
