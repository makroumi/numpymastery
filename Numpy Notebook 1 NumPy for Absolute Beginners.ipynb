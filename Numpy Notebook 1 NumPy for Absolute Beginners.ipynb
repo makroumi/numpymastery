{
  "nbformat": 4,
  "nbformat_minor": 0,
  "metadata": {
    "colab": {
      "provenance": []
    },
    "kernelspec": {
      "name": "python3",
      "display_name": "Python 3"
    },
    "language_info": {
      "name": "python"
    }
  },
  "cells": [
    {
      "cell_type": "markdown",
      "source": [
        "# Numpy Notebook 1: NumPy for Absolute Beginners  \n",
        "\n",
        "*(Simple English, Simple Math, Simple Code)*"
      ],
      "metadata": {
        "id": "QHRNT2YgiL6J"
      }
    },
    {
      "cell_type": "markdown",
      "source": [
        "## What is NumPy?  \n",
        "NumPy is like a **super calculator** for Python that works with:  \n",
        "- Numbers (1, 2, 3...)  \n",
        "- Tables of numbers   \n",
        "- Math operations  \n",
        "\n",
        "**Why learn NumPy?**  \n",
        "- It's **faster** than normal Python  \n",
        "- Used in **every** data science project  \n",
        "- Makes math **easy**"
      ],
      "metadata": {
        "id": "SOCu2DztiOqu"
      }
    },
    {
      "cell_type": "code",
      "source": [
        "# We always write this first\n",
        "import numpy as np\n",
        "print(\"Ready to use NumPy! \")"
      ],
      "metadata": {
        "colab": {
          "base_uri": "https://localhost:8080/"
        },
        "id": "2_fszp1LiVxu",
        "outputId": "7e929c47-1955-4d4c-e81b-76c075f7f7f5"
      },
      "execution_count": null,
      "outputs": [
        {
          "output_type": "stream",
          "name": "stdout",
          "text": [
            "Ready to use NumPy! \n"
          ]
        }
      ]
    },
    {
      "cell_type": "markdown",
      "source": [
        "## 1. Making Simple Number Lists (1D Arrays)  \n",
        "Like a shopping list, but for numbers!"
      ],
      "metadata": {
        "id": "xX4YCI8aigKi"
      }
    },
    {
      "cell_type": "code",
      "source": [
        "# Making a number list\n",
        "my_numbers = np.array([10, 20, 30, 40])\n",
        "print(\"My numbers:\", my_numbers)\n",
        "\n",
        "# Try changing these numbers!\n",
        "your_numbers = np.array([5, 10 , 15])  # Fill in the blank!\n",
        "print(\"Your numbers:\", your_numbers)"
      ],
      "metadata": {
        "colab": {
          "base_uri": "https://localhost:8080/"
        },
        "id": "Nln70XqeiitC",
        "outputId": "6463aae7-5682-408b-c323-506e34fba273"
      },
      "execution_count": null,
      "outputs": [
        {
          "output_type": "stream",
          "name": "stdout",
          "text": [
            "My numbers: [10 20 30 40]\n",
            "Your numbers: [ 5 10 15]\n"
          ]
        }
      ]
    },
    {
      "cell_type": "markdown",
      "source": [
        "## 2. Making Number Tables (2D Arrays)  \n",
        "Like a tiny spreadsheet with rows and columns."
      ],
      "metadata": {
        "id": "w2gouhKIiyY9"
      }
    },
    {
      "cell_type": "code",
      "source": [
        "# 2 rows, 3 columns\n",
        "number_table = np.array([\n",
        "    [1, 2, 3],  # ← First row\n",
        "    [4, 5, 6]   # ← Second row\n",
        "])\n",
        "print(\"Number table:\\n\", number_table)\n",
        "\n",
        "# Rows go →, Columns go ↓"
      ],
      "metadata": {
        "colab": {
          "base_uri": "https://localhost:8080/"
        },
        "id": "QixFEZCTi9I3",
        "outputId": "56f41fde-408f-4af8-dacb-88798b2a2091"
      },
      "execution_count": null,
      "outputs": [
        {
          "output_type": "stream",
          "name": "stdout",
          "text": [
            "Number table:\n",
            " [[1 2 3]\n",
            " [4 5 6]]\n"
          ]
        }
      ]
    },
    {
      "cell_type": "markdown",
      "source": [
        "## ➕ Easy Math with Arrays  \n",
        "No loops needed - works on all numbers at once!"
      ],
      "metadata": {
        "id": "V66gL-FdjIm4"
      }
    },
    {
      "cell_type": "code",
      "source": [
        "a = np.array([1, 2, 3])\n",
        "b = np.array([4, 5, 6])\n",
        "\n",
        "print(\"Add:\", a + b)      # [1+4, 2+5, 3+6] = [5, 7, 9]\n",
        "print(\"Multiply:\", a * b) # [1×4, 2×5, 3×6] = [4, 10, 18]"
      ],
      "metadata": {
        "colab": {
          "base_uri": "https://localhost:8080/"
        },
        "id": "IGDCUleZjJtd",
        "outputId": "4b2aeda5-e417-486f-a8c3-75d13fd501ac"
      },
      "execution_count": null,
      "outputs": [
        {
          "output_type": "stream",
          "name": "stdout",
          "text": [
            "Add: [5 7 9]\n",
            "Multiply: [ 4 10 18]\n"
          ]
        }
      ]
    },
    {
      "cell_type": "markdown",
      "source": [
        "## Math with One Number  \n",
        "NumPy automatically does math on ALL numbers."
      ],
      "metadata": {
        "id": "hEwTO8xvjS3L"
      }
    },
    {
      "cell_type": "code",
      "source": [
        "numbers = np.array([1, 2, 3])\n",
        "\n",
        "print(\"Add 5:\", numbers + 5)  # [6, 7, 8]\n",
        "print(\"Double:\", numbers * 2) # [2, 4, 6]\n",
        "print(\"Square:\", numbers ** 2) # [1, 4, 9]"
      ],
      "metadata": {
        "colab": {
          "base_uri": "https://localhost:8080/"
        },
        "id": "knZkzvcSjT1R",
        "outputId": "4101d197-46f5-49b9-88bc-dda52d18c409"
      },
      "execution_count": null,
      "outputs": [
        {
          "output_type": "stream",
          "name": "stdout",
          "text": [
            "Add 5: [6 7 8]\n",
            "Double: [2 4 6]\n",
            "Square: [1 4 9]\n"
          ]
        }
      ]
    },
    {
      "cell_type": "markdown",
      "source": [
        "## Getting Parts of Arrays  \n",
        "Python counts from 0!  \n"
      ],
      "metadata": {
        "id": "OybYHchQjXOs"
      }
    },
    {
      "cell_type": "code",
      "source": [
        "arr = np.array([10, 20, 30, 40])\n",
        "\n",
        "print(\"First item:\", arr[0])  # 10\n",
        "print(\"Last item:\", arr[-1])  # 40\n",
        "print(\"Middle items:\", arr[1:3])  # [20, 30]"
      ],
      "metadata": {
        "colab": {
          "base_uri": "https://localhost:8080/"
        },
        "id": "OmavT15xjdwV",
        "outputId": "cd04e4c5-e72e-4675-8e8e-2f30e34a0023"
      },
      "execution_count": null,
      "outputs": [
        {
          "output_type": "stream",
          "name": "stdout",
          "text": [
            "First item: 10\n",
            "Last item: 40\n",
            "Middle items: [20 30]\n"
          ]
        }
      ]
    },
    {
      "cell_type": "markdown",
      "source": [
        "## Real Example: Grading Students  \n",
        "Let's analyze test scores!"
      ],
      "metadata": {
        "id": "H236Gq_XjyF3"
      }
    },
    {
      "cell_type": "code",
      "source": [
        "scores = np.array([65, 72, 88, 91, 54])\n",
        "\n",
        "# Who passed? (60+)\n",
        "passed = scores[scores >= 60]\n",
        "print(\"Passing scores:\", passed)\n",
        "\n",
        "# Class average\n",
        "print(\"Average score:\", np.mean(scores))"
      ],
      "metadata": {
        "colab": {
          "base_uri": "https://localhost:8080/"
        },
        "id": "-JNZq1lUjzxo",
        "outputId": "4b655a63-510e-4225-c3d7-c5134214a128"
      },
      "execution_count": null,
      "outputs": [
        {
          "output_type": "stream",
          "name": "stdout",
          "text": [
            "Passing scores: [65 72 88 91]\n",
            "Average score: 74.0\n"
          ]
        }
      ]
    },
    {
      "cell_type": "markdown",
      "source": [
        "## Practice Time!  \n",
        "Try these in a new code cell:  \n",
        "1. Make an array with your favorite numbers  \n",
        "2. Add 10 to each number  \n",
        "3. Find numbers greater than 15  \n",
        "4. Calculate the sum"
      ],
      "metadata": {
        "id": "Tf2OZMh5j-aY"
      }
    },
    {
      "cell_type": "markdown",
      "source": [
        "## Remember These Shortcuts  \n",
        "- `np.array()` → Make number lists  \n",
        "- `arr + 5` → Math on all numbers  \n",
        "- `arr[0]` → Get first number  \n",
        "- `np.mean()` → Find average  \n",
        "\n",
        "Next: We'll learn about **shapes and sizes** of arrays!"
      ],
      "metadata": {
        "id": "j3nnPiR4kLsp"
      }
    }
  ]
}
